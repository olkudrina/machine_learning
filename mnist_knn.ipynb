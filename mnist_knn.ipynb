{
 "cells": [
  {
   "cell_type": "code",
   "execution_count": null,
   "metadata": {
    "_cell_guid": "b1076dfc-b9ad-4769-8c92-a6c4dae69d19",
    "_uuid": "8f2839f25d086af736a60e9eeb907d3b93b6e0e5",
    "execution": {
     "iopub.execute_input": "2022-02-27T16:55:38.673103Z",
     "iopub.status.busy": "2022-02-27T16:55:38.672723Z",
     "iopub.status.idle": "2022-02-27T16:55:38.688535Z",
     "shell.execute_reply": "2022-02-27T16:55:38.687564Z",
     "shell.execute_reply.started": "2022-02-27T16:55:38.673046Z"
    },
    "scrolled": true
   },
   "outputs": [],
   "source": [
    "import numpy as np\n",
    "import pandas as pd"
   ]
  },
  {
   "cell_type": "code",
   "execution_count": null,
   "metadata": {
    "execution": {
     "iopub.execute_input": "2022-02-27T16:55:38.694782Z",
     "iopub.status.busy": "2022-02-27T16:55:38.694227Z",
     "iopub.status.idle": "2022-02-27T16:55:42.282544Z",
     "shell.execute_reply": "2022-02-27T16:55:42.281682Z",
     "shell.execute_reply.started": "2022-02-27T16:55:38.694747Z"
    }
   },
   "outputs": [],
   "source": [
    "df = pd.read_csv('C:/Users/kosar/Desktop/Olya/mnist/train.csv')"
   ]
  },
  {
   "cell_type": "code",
   "execution_count": null,
   "metadata": {
    "execution": {
     "iopub.execute_input": "2022-02-27T16:55:42.284599Z",
     "iopub.status.busy": "2022-02-27T16:55:42.284037Z",
     "iopub.status.idle": "2022-02-27T16:55:42.307633Z",
     "shell.execute_reply": "2022-02-27T16:55:42.306815Z",
     "shell.execute_reply.started": "2022-02-27T16:55:42.284559Z"
    }
   },
   "outputs": [],
   "source": [
    "df.head()"
   ]
  },
  {
   "cell_type": "code",
   "execution_count": null,
   "metadata": {
    "execution": {
     "iopub.execute_input": "2022-02-27T16:55:42.310017Z",
     "iopub.status.busy": "2022-02-27T16:55:42.309620Z",
     "iopub.status.idle": "2022-02-27T16:55:42.324667Z",
     "shell.execute_reply": "2022-02-27T16:55:42.323580Z",
     "shell.execute_reply.started": "2022-02-27T16:55:42.309986Z"
    }
   },
   "outputs": [],
   "source": [
    "df[['label', 'pixel0']].groupby('label').count()"
   ]
  },
  {
   "cell_type": "code",
   "execution_count": null,
   "metadata": {
    "execution": {
     "iopub.execute_input": "2022-02-27T16:55:42.327065Z",
     "iopub.status.busy": "2022-02-27T16:55:42.326452Z",
     "iopub.status.idle": "2022-02-27T16:55:44.739606Z",
     "shell.execute_reply": "2022-02-27T16:55:44.738505Z",
     "shell.execute_reply.started": "2022-02-27T16:55:42.327014Z"
    }
   },
   "outputs": [],
   "source": [
    "df.describe()"
   ]
  },
  {
   "cell_type": "code",
   "execution_count": null,
   "metadata": {
    "execution": {
     "iopub.execute_input": "2022-02-27T16:55:44.741625Z",
     "iopub.status.busy": "2022-02-27T16:55:44.741041Z",
     "iopub.status.idle": "2022-02-27T16:55:45.181324Z",
     "shell.execute_reply": "2022-02-27T16:55:45.180345Z",
     "shell.execute_reply.started": "2022-02-27T16:55:44.741579Z"
    }
   },
   "outputs": [],
   "source": [
    "from sklearn.model_selection import GridSearchCV, train_test_split\n",
    "from sklearn.neighbors import KNeighborsClassifier\n",
    "from sklearn.metrics import accuracy_score"
   ]
  },
  {
   "cell_type": "code",
   "execution_count": null,
   "metadata": {
    "execution": {
     "iopub.execute_input": "2022-02-27T16:55:45.182931Z",
     "iopub.status.busy": "2022-02-27T16:55:45.182676Z",
     "iopub.status.idle": "2022-02-27T16:55:45.243741Z",
     "shell.execute_reply": "2022-02-27T16:55:45.242669Z",
     "shell.execute_reply.started": "2022-02-27T16:55:45.182899Z"
    }
   },
   "outputs": [],
   "source": [
    "df_sample = df.sample(5000)\n",
    "df_sample[['label', 'pixel0']].groupby('label').count()"
   ]
  },
  {
   "cell_type": "code",
   "execution_count": null,
   "metadata": {
    "_kg_hide-input": true,
    "execution": {
     "iopub.execute_input": "2022-02-27T16:55:45.246086Z",
     "iopub.status.busy": "2022-02-27T16:55:45.245721Z",
     "iopub.status.idle": "2022-02-27T16:55:45.250976Z",
     "shell.execute_reply": "2022-02-27T16:55:45.249886Z",
     "shell.execute_reply.started": "2022-02-27T16:55:45.246041Z"
    }
   },
   "outputs": [],
   "source": [
    "X, y = df_sample.iloc[:, 1:], df_sample['label']\n",
    "grid_searcher = GridSearchCV(KNeighborsClassifier(),\n",
    "                             param_grid = {\n",
    "                                 'n_neighbors': range(1,30,1),\n",
    "                                 'weights': ['uniform', 'distance'],\n",
    "                                 'p' : [1,2,3]\n",
    "                             },\n",
    "                             cv = 5,\n",
    "                             verbose = 3\n",
    ")\n",
    "grid_searcher.fit(X,y)\n",
    "grid_searcher.best_params_"
   ]
  },
  {
   "cell_type": "code",
   "execution_count": null,
   "metadata": {
    "execution": {
     "iopub.execute_input": "2022-02-27T16:55:45.268317Z",
     "iopub.status.busy": "2022-02-27T16:55:45.267845Z",
     "iopub.status.idle": "2022-02-27T16:55:45.548873Z",
     "shell.execute_reply": "2022-02-27T16:55:45.547761Z",
     "shell.execute_reply.started": "2022-02-27T16:55:45.268281Z"
    }
   },
   "outputs": [],
   "source": [
    "X_train, X_test, y_train, y_test = train_test_split(df.iloc[:, 1:], df['label'], test_size = 0.1)"
   ]
  },
  {
   "cell_type": "code",
   "execution_count": null,
   "metadata": {
    "execution": {
     "iopub.execute_input": "2022-02-27T16:55:45.550470Z",
     "iopub.status.busy": "2022-02-27T16:55:45.550169Z",
     "iopub.status.idle": "2022-02-27T16:55:50.648935Z",
     "shell.execute_reply": "2022-02-27T16:55:50.648299Z",
     "shell.execute_reply.started": "2022-02-27T16:55:45.550437Z"
    }
   },
   "outputs": [],
   "source": [
    "knn = KNeighborsClassifier(n_neighbors = 4, p = 3, weights = 'distance', n_jobs=-1)\n",
    "knn.fit(X_train, y_train)"
   ]
  },
  {
   "cell_type": "code",
   "execution_count": null,
   "metadata": {
    "execution": {
     "iopub.execute_input": "2022-02-27T16:55:50.650554Z",
     "iopub.status.busy": "2022-02-27T16:55:50.650110Z",
     "iopub.status.idle": "2022-02-27T18:05:31.869523Z",
     "shell.execute_reply": "2022-02-27T18:05:31.868365Z",
     "shell.execute_reply.started": "2022-02-27T16:55:50.650513Z"
    }
   },
   "outputs": [],
   "source": [
    "predictions = knn.predict(X_test)"
   ]
  },
  {
   "cell_type": "code",
   "execution_count": null,
   "metadata": {},
   "outputs": [],
   "source": [
    "accuracy_score(y_test, predictions)"
   ]
  },
  {
   "cell_type": "code",
   "execution_count": null,
   "metadata": {
    "execution": {
     "iopub.execute_input": "2022-02-27T18:05:31.874092Z",
     "iopub.status.busy": "2022-02-27T18:05:31.873619Z",
     "iopub.status.idle": "2022-02-27T20:40:25.075990Z",
     "shell.execute_reply": "2022-02-27T20:40:25.070698Z",
     "shell.execute_reply.started": "2022-02-27T18:05:31.874028Z"
    }
   },
   "outputs": [],
   "source": [
    "df_test = pd.read_csv('C:/Users/kosar/Desktop/Olya/mnist/test.csv')\n",
    "submissions = knn.predict(df_test)"
   ]
  },
  {
   "cell_type": "code",
   "execution_count": null,
   "metadata": {},
   "outputs": [],
   "source": [
    "submissions = pd.DataFrame(submissions)\n",
    "submissions.index.rename('ImageId', inplace=True)\n",
    "submissions.columns = ['Label']\n",
    "submissions.index += 1"
   ]
  },
  {
   "cell_type": "code",
   "execution_count": null,
   "metadata": {
    "execution": {
     "iopub.execute_input": "2022-02-27T20:45:45.152098Z",
     "iopub.status.busy": "2022-02-27T20:45:45.151451Z",
     "iopub.status.idle": "2022-02-27T20:45:45.201227Z",
     "shell.execute_reply": "2022-02-27T20:45:45.200199Z",
     "shell.execute_reply.started": "2022-02-27T20:45:45.152055Z"
    }
   },
   "outputs": [],
   "source": [
    "submissions.to_csv(r'C:/Users/kosar/Desktop/Olya/mnist/submission.csv')"
   ]
  }
 ],
 "metadata": {
  "kernelspec": {
   "display_name": "Python 3 (ipykernel)",
   "language": "python",
   "name": "python3"
  },
  "language_info": {
   "codemirror_mode": {
    "name": "ipython",
    "version": 3
   },
   "file_extension": ".py",
   "mimetype": "text/x-python",
   "name": "python",
   "nbconvert_exporter": "python",
   "pygments_lexer": "ipython3",
   "version": "3.10.2"
  }
 },
 "nbformat": 4,
 "nbformat_minor": 4
}
